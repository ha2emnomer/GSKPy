{
 "cells": [
  {
   "cell_type": "code",
   "execution_count": null,
   "metadata": {
    "id": "V3Mmpn4nUOsm"
   },
   "outputs": [],
   "source": [
    "%matplotlib inline"
   ]
  },
  {
   "cell_type": "code",
   "execution_count": null,
   "metadata": {
    "id": "mxkXRo8us6L-"
   },
   "outputs": [],
   "source": [
    "from GSKpy.BasicGSK import BasicGSK\n",
    "from GSKpy.viz import Viz\n",
    "import numpy as np\n",
    "from numpy import abs, cos, exp, mean, pi, prod, sin, sqrt, sum"
   ]
  },
  {
   "cell_type": "code",
   "execution_count": null,
   "metadata": {
    "id": "Nx18naqGs7m4"
   },
   "outputs": [],
   "source": [
    "def ackley(x,func_args=[20,0.2,2*pi]):\n",
    "    #The objective function should take x\n",
    "    x = np.asarray_chkfinite(x)  # ValueError if any NaN or Inf\n",
    "    a= func_args[0]\n",
    "    b= func_args[1]\n",
    "    c=func_args[2] \n",
    "    \n",
    "    n = len(x[0])\n",
    "    s1 = sum( x**2 ,axis=1)\n",
    "    s2 = sum( cos( c * x ),axis=1)\n",
    "    return -a*exp( -b*sqrt( s1 / n )) - exp( s2 / n ) + a + exp(1)"
   ]
  },
  {
   "cell_type": "code",
   "execution_count": null,
   "metadata": {
    "colab": {
     "base_uri": "https://localhost:8080/"
    },
    "id": "p3gokT_wvYVN",
    "outputId": "3ef16f8f-fe8d-49c8-eb06-8b6d64724a1b"
   },
   "outputs": [],
   "source": [
    "solver = BasicGSK(ackley,10,100,[-100]*10,[100]*10,1000000,func_args=[20,0.2,2*pi])\n",
    "g,best , best_fit, errors = solver.run(track=True)"
   ]
  },
  {
   "cell_type": "code",
   "execution_count": null,
   "metadata": {
    "colab": {
     "base_uri": "https://localhost:8080/",
     "height": 715
    },
    "id": "rmtmhIkbWJHs",
    "outputId": "a51480b0-34b4-4d7c-e4f8-0b368ad62c96"
   },
   "outputs": [],
   "source": [
    "#visualize the run\n",
    "dim=10\n",
    "vis = Viz(ackley,-100,100,dim,func_args=[20,0.2,2*pi])\n",
    "best_hist,fitness_vals, best, middle, worst,junior_dim = solver.getstatistics()\n",
    "\n",
    "best_hist = np.array(best_hist)\n",
    "best_hist = np.vstack((best_hist))\n",
    "best_hist = best_hist.reshape((best_hist.shape[0],dim))\n",
    "vis.set(dim,best_hist,fitness_vals,best,middle,worst)\n",
    "fig,ani = vis.build_plot(show=False)\n",
    "from IPython.display import HTML\n",
    "HTML(ani.to_html5_video())"
   ]
  },
  {
   "cell_type": "code",
   "execution_count": null,
   "metadata": {},
   "outputs": [],
   "source": []
  },
  {
   "cell_type": "code",
   "execution_count": null,
   "metadata": {},
   "outputs": [],
   "source": []
  }
 ],
 "metadata": {
  "colab": {
   "collapsed_sections": [],
   "name": "GSK Tutorial.ipynb",
   "provenance": []
  },
  "kernelspec": {
   "display_name": "Python 3",
   "language": "python",
   "name": "python3"
  },
  "language_info": {
   "codemirror_mode": {
    "name": "ipython",
    "version": 3
   },
   "file_extension": ".py",
   "mimetype": "text/x-python",
   "name": "python",
   "nbconvert_exporter": "python",
   "pygments_lexer": "ipython3",
   "version": "3.8.8"
  }
 },
 "nbformat": 4,
 "nbformat_minor": 1
}
